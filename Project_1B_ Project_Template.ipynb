{
 "cells": [
  {
   "cell_type": "markdown",
   "metadata": {},
   "source": [
    "# Part I. ETL Pipeline for Pre-Processing the Files"
   ]
  },
  {
   "cell_type": "markdown",
   "metadata": {},
   "source": [
    "## PLEASE RUN THE FOLLOWING CODE FOR PRE-PROCESSING THE FILES"
   ]
  },
  {
   "cell_type": "markdown",
   "metadata": {},
   "source": [
    "#### Import Python packages "
   ]
  },
  {
   "cell_type": "code",
   "execution_count": 1,
   "metadata": {},
   "outputs": [],
   "source": [
    "# Import Python packages \n",
    "import pandas as pd\n",
    "import cassandra\n",
    "import re\n",
    "import os\n",
    "import glob\n",
    "import numpy as np\n",
    "import json\n",
    "import csv"
   ]
  },
  {
   "cell_type": "markdown",
   "metadata": {},
   "source": [
    "#### Creating list of filepaths to process original event csv data files"
   ]
  },
  {
   "cell_type": "code",
   "execution_count": 2,
   "metadata": {},
   "outputs": [
    {
     "name": "stdout",
     "output_type": "stream",
     "text": [
      "D:\\Data Engineering\\Data-Modeling-with-Cassandra\n"
     ]
    }
   ],
   "source": [
    "# checking your current working directory\n",
    "print(os.getcwd())\n",
    "\n",
    "# Get your current folder and subfolder event data\n",
    "filepath = os.getcwd() + '/event_data'\n",
    "\n",
    "# Create a for loop to create a list of files and collect each filepath\n",
    "for root, dirs, files in os.walk(filepath):\n",
    "    \n",
    "# join the file path and roots with the subdirectories using glob\n",
    "    file_path_list = glob.glob(os.path.join(root,'*'))\n",
    "    #print(file_path_list)"
   ]
  },
  {
   "cell_type": "code",
   "execution_count": 3,
   "metadata": {},
   "outputs": [
    {
     "data": {
      "text/plain": [
       "['D:\\\\Data Engineering\\\\Data-Modeling-with-Cassandra/event_data\\\\2018-11-01-events.csv',\n",
       " 'D:\\\\Data Engineering\\\\Data-Modeling-with-Cassandra/event_data\\\\2018-11-02-events.csv',\n",
       " 'D:\\\\Data Engineering\\\\Data-Modeling-with-Cassandra/event_data\\\\2018-11-03-events.csv',\n",
       " 'D:\\\\Data Engineering\\\\Data-Modeling-with-Cassandra/event_data\\\\2018-11-04-events.csv',\n",
       " 'D:\\\\Data Engineering\\\\Data-Modeling-with-Cassandra/event_data\\\\2018-11-05-events.csv',\n",
       " 'D:\\\\Data Engineering\\\\Data-Modeling-with-Cassandra/event_data\\\\2018-11-06-events.csv',\n",
       " 'D:\\\\Data Engineering\\\\Data-Modeling-with-Cassandra/event_data\\\\2018-11-07-events.csv',\n",
       " 'D:\\\\Data Engineering\\\\Data-Modeling-with-Cassandra/event_data\\\\2018-11-08-events.csv',\n",
       " 'D:\\\\Data Engineering\\\\Data-Modeling-with-Cassandra/event_data\\\\2018-11-09-events.csv',\n",
       " 'D:\\\\Data Engineering\\\\Data-Modeling-with-Cassandra/event_data\\\\2018-11-10-events.csv',\n",
       " 'D:\\\\Data Engineering\\\\Data-Modeling-with-Cassandra/event_data\\\\2018-11-11-events.csv',\n",
       " 'D:\\\\Data Engineering\\\\Data-Modeling-with-Cassandra/event_data\\\\2018-11-12-events.csv',\n",
       " 'D:\\\\Data Engineering\\\\Data-Modeling-with-Cassandra/event_data\\\\2018-11-13-events.csv',\n",
       " 'D:\\\\Data Engineering\\\\Data-Modeling-with-Cassandra/event_data\\\\2018-11-14-events.csv',\n",
       " 'D:\\\\Data Engineering\\\\Data-Modeling-with-Cassandra/event_data\\\\2018-11-15-events.csv',\n",
       " 'D:\\\\Data Engineering\\\\Data-Modeling-with-Cassandra/event_data\\\\2018-11-16-events.csv',\n",
       " 'D:\\\\Data Engineering\\\\Data-Modeling-with-Cassandra/event_data\\\\2018-11-17-events.csv',\n",
       " 'D:\\\\Data Engineering\\\\Data-Modeling-with-Cassandra/event_data\\\\2018-11-18-events.csv',\n",
       " 'D:\\\\Data Engineering\\\\Data-Modeling-with-Cassandra/event_data\\\\2018-11-19-events.csv',\n",
       " 'D:\\\\Data Engineering\\\\Data-Modeling-with-Cassandra/event_data\\\\2018-11-20-events.csv',\n",
       " 'D:\\\\Data Engineering\\\\Data-Modeling-with-Cassandra/event_data\\\\2018-11-21-events.csv',\n",
       " 'D:\\\\Data Engineering\\\\Data-Modeling-with-Cassandra/event_data\\\\2018-11-22-events.csv',\n",
       " 'D:\\\\Data Engineering\\\\Data-Modeling-with-Cassandra/event_data\\\\2018-11-23-events.csv',\n",
       " 'D:\\\\Data Engineering\\\\Data-Modeling-with-Cassandra/event_data\\\\2018-11-24-events.csv',\n",
       " 'D:\\\\Data Engineering\\\\Data-Modeling-with-Cassandra/event_data\\\\2018-11-25-events.csv',\n",
       " 'D:\\\\Data Engineering\\\\Data-Modeling-with-Cassandra/event_data\\\\2018-11-26-events.csv',\n",
       " 'D:\\\\Data Engineering\\\\Data-Modeling-with-Cassandra/event_data\\\\2018-11-27-events.csv',\n",
       " 'D:\\\\Data Engineering\\\\Data-Modeling-with-Cassandra/event_data\\\\2018-11-28-events.csv',\n",
       " 'D:\\\\Data Engineering\\\\Data-Modeling-with-Cassandra/event_data\\\\2018-11-29-events.csv',\n",
       " 'D:\\\\Data Engineering\\\\Data-Modeling-with-Cassandra/event_data\\\\2018-11-30-events.csv']"
      ]
     },
     "execution_count": 3,
     "metadata": {},
     "output_type": "execute_result"
    }
   ],
   "source": [
    "file_path_list"
   ]
  },
  {
   "cell_type": "markdown",
   "metadata": {},
   "source": [
    "#### Processing the files to create the data file csv that will be used for Apache Casssandra tables"
   ]
  },
  {
   "cell_type": "code",
   "execution_count": 4,
   "metadata": {},
   "outputs": [],
   "source": [
    "# initiating an empty list of rows that will be generated from each file\n",
    "full_data_rows_list = []\n",
    "\n",
    "# for every filepath in the file path list\n",
    "for f in file_path_list:\n",
    "\n",
    "    # reading csv file\n",
    "    with open(f, \"r\", encoding=\"utf8\", newline=\"\") as csvfile:\n",
    "        # creating a csv reader object\n",
    "        csvreader = csv.reader(csvfile)\n",
    "        next(csvreader)\n",
    "\n",
    "        # extracting each data row one by one and append it\n",
    "        for line in csvreader:\n",
    "            # print(line)\n",
    "            full_data_rows_list.append(line)\n",
    "\n",
    "# uncomment the code below if you would like to get total number of rows\n",
    "# print(len(full_data_rows_list))\n",
    "# uncomment the code below if you would like to check to see what the list of event data rows will look like\n",
    "# print(full_data_rows_list)\n",
    "\n",
    "# creating a smaller event data csv file called event_datafile_full csv that will be used to insert data into the \\\n",
    "# Apache Cassandra tables\n",
    "csv.register_dialect(\"myDialect\", quoting=csv.QUOTE_ALL, skipinitialspace=True)\n",
    "\n",
    "with open(\"event_datafile_new.csv\", \"w\", encoding=\"utf8\", newline=\"\") as f:\n",
    "    writer = csv.writer(f, dialect=\"myDialect\")\n",
    "    writer.writerow(\n",
    "        [\n",
    "            \"artist\",\n",
    "            \"firstName\",\n",
    "            \"gender\",\n",
    "            \"itemInSession\",\n",
    "            \"lastName\",\n",
    "            \"length\",\n",
    "            \"level\",\n",
    "            \"location\",\n",
    "            \"sessionId\",\n",
    "            \"song\",\n",
    "            \"userId\",\n",
    "        ]\n",
    "    )\n",
    "    for row in full_data_rows_list:\n",
    "        if row[0] == \"\":\n",
    "            continue\n",
    "        writer.writerow(\n",
    "            (\n",
    "                row[0],\n",
    "                row[2],\n",
    "                row[3],\n",
    "                row[4],\n",
    "                row[5],\n",
    "                row[6],\n",
    "                row[7],\n",
    "                row[8],\n",
    "                row[12],\n",
    "                row[13],\n",
    "                row[16],\n",
    "            )\n",
    "        )"
   ]
  },
  {
   "cell_type": "code",
   "execution_count": 5,
   "metadata": {},
   "outputs": [
    {
     "name": "stdout",
     "output_type": "stream",
     "text": [
      "6821\n"
     ]
    }
   ],
   "source": [
    "# check the number of rows in your csv file\n",
    "with open(\"event_datafile_new.csv\", \"r\", encoding=\"utf8\") as f:\n",
    "    print(sum(1 for line in f))"
   ]
  },
  {
   "cell_type": "markdown",
   "metadata": {},
   "source": [
    "# Part II. Complete the Apache Cassandra coding portion of your project. \n",
    "\n",
    "## Now you are ready to work with the CSV file titled <font color=red>event_datafile_new.csv</font>, located within the Workspace directory.  The event_datafile_new.csv contains the following columns: \n",
    "- artist \n",
    "- firstName of user\n",
    "- gender of user\n",
    "- item number in session\n",
    "- last name of user\n",
    "- length of the song\n",
    "- level (paid or free song)\n",
    "- location of the user\n",
    "- sessionId\n",
    "- song title\n",
    "- userId\n",
    "\n",
    "The image below is a screenshot of what the denormalized data should appear like in the <font color=red>**event_datafile_new.csv**</font> after the code above is run:<br>\n",
    "\n",
    "<img src=\"images/image_event_datafile_new.jpg\">"
   ]
  },
  {
   "cell_type": "markdown",
   "metadata": {},
   "source": [
    "#### Creating a Cluster"
   ]
  },
  {
   "cell_type": "code",
   "execution_count": 6,
   "metadata": {},
   "outputs": [],
   "source": [
    "from cassandra.cluster import Cluster\n",
    "\n",
    "try:\n",
    "    cluster = Cluster([\"127.0.0.1\"])\n",
    "    session = cluster.connect()\n",
    "except Exception as e:\n",
    "    print(e)"
   ]
  },
  {
   "cell_type": "markdown",
   "metadata": {},
   "source": [
    "#### Create Keyspace"
   ]
  },
  {
   "cell_type": "code",
   "execution_count": 7,
   "metadata": {},
   "outputs": [],
   "source": [
    "# Create a Keyspace\n",
    "session.execute(\n",
    "    \"\"\"\n",
    "    CREATE KEYSPACE IF NOT EXISTS modeling\n",
    "    WITH REPLICATION = { 'class' : 'SimpleStrategy', 'replication_factor' : 1 }\n",
    "    \"\"\"\n",
    ");"
   ]
  },
  {
   "cell_type": "markdown",
   "metadata": {},
   "source": [
    "#### Set Keyspace"
   ]
  },
  {
   "cell_type": "code",
   "execution_count": 8,
   "metadata": {},
   "outputs": [],
   "source": [
    "# Set KEYSPACE to the keyspace specified above\n",
    "try:\n",
    "    session.set_keyspace('modeling')\n",
    "except Exception as e:\n",
    "    print(e)"
   ]
  },
  {
   "cell_type": "markdown",
   "metadata": {},
   "source": [
    "## Create queries\n",
    "\n",
    "### 1. Give me the artist, song title and song's length in the music app history that was heard during  sessionId = 338, and itemInSession   = 4\n",
    "\n",
    "#### The table will containt those columns:\n",
    "- **sessionId**, **itemInSession** as _partition keys_ for filtering and gurantee uniqueness.\n",
    "- clustering columns\n",
    "    - **artist**\n",
    "    - **song_name**\n",
    "    - **song_length**"
   ]
  },
  {
   "cell_type": "code",
   "execution_count": 9,
   "metadata": {},
   "outputs": [],
   "source": [
    "## Query 1:  Give me the artist, song title and song's length in the music app history that was heard during \\\n",
    "## sessionId = 338, and itemInSession = 4\n",
    "query1 = \"SELECT artist, song_title, song_length FROM songs_by_user_session WHERE session_id = 338 AND item_in_session = 4\""
   ]
  },
  {
   "cell_type": "code",
   "execution_count": 10,
   "metadata": {},
   "outputs": [],
   "source": [
    "session.execute(\n",
    "    \"\"\"\n",
    "    DROP TABLE IF EXISTS songs_by_user_session\n",
    "    \"\"\"\n",
    ");\n",
    "session.execute(\n",
    "    \"\"\"\n",
    "    CREATE TABLE IF NOT EXISTS songs_by_user_session\n",
    "    (session_id int, item_in_session int, artist varchar, song_title varchar,\n",
    "    song_length float,  PRIMARY KEY(session_id, item_in_session))\n",
    "    ;\"\"\"\n",
    ");"
   ]
  },
  {
   "cell_type": "code",
   "execution_count": 11,
   "metadata": {},
   "outputs": [],
   "source": [
    "# We have provided part of the code to set up the CSV file. Please complete the Apache Cassandra code below#\n",
    "file = 'event_datafile_new.csv'\n",
    "lines = []\n",
    "with open(file, encoding = 'utf8') as f:\n",
    "    csvreader = csv.reader(f)\n",
    "    next(csvreader) # skip header\n",
    "    for line in csvreader:\n",
    "        lines.append(line)"
   ]
  },
  {
   "cell_type": "code",
   "execution_count": 12,
   "metadata": {},
   "outputs": [],
   "source": [
    "file = 'event_datafile_new.csv'"
   ]
  },
  {
   "cell_type": "code",
   "execution_count": 13,
   "metadata": {},
   "outputs": [
    {
     "data": {
      "text/plain": [
       "['Girl Talk',\n",
       " 'Kaylee',\n",
       " 'F',\n",
       " '8',\n",
       " 'Summers',\n",
       " '160.15628',\n",
       " 'free',\n",
       " 'Phoenix-Mesa-Scottsdale, AZ',\n",
       " '139',\n",
       " 'Once again',\n",
       " '8']"
      ]
     },
     "execution_count": 13,
     "metadata": {},
     "output_type": "execute_result"
    }
   ],
   "source": [
    "lines[6]"
   ]
  },
  {
   "cell_type": "code",
   "execution_count": 14,
   "metadata": {},
   "outputs": [
    {
     "name": "stdout",
     "output_type": "stream",
     "text": [
      "artist 0\n",
      "firstName 1\n",
      "gender 2\n",
      "itemInSession 3\n",
      "lastName 4\n",
      "length 5\n",
      "level 6\n",
      "location 7\n",
      "sessionId 8\n",
      "song 9\n",
      "userId 10\n"
     ]
    }
   ],
   "source": [
    "import pandas as pd\n",
    "for i, c in enumerate(pd.read_csv(file).columns):\n",
    "    print(c, i)"
   ]
  },
  {
   "cell_type": "code",
   "execution_count": 15,
   "metadata": {},
   "outputs": [],
   "source": [
    "df = pd.read_csv(file)"
   ]
  },
  {
   "cell_type": "code",
   "execution_count": 16,
   "metadata": {},
   "outputs": [
    {
     "data": {
      "text/html": [
       "<div>\n",
       "<style scoped>\n",
       "    .dataframe tbody tr th:only-of-type {\n",
       "        vertical-align: middle;\n",
       "    }\n",
       "\n",
       "    .dataframe tbody tr th {\n",
       "        vertical-align: top;\n",
       "    }\n",
       "\n",
       "    .dataframe thead th {\n",
       "        text-align: right;\n",
       "    }\n",
       "</style>\n",
       "<table border=\"1\" class=\"dataframe\">\n",
       "  <thead>\n",
       "    <tr style=\"text-align: right;\">\n",
       "      <th></th>\n",
       "      <th>artist</th>\n",
       "      <th>firstName</th>\n",
       "      <th>gender</th>\n",
       "      <th>itemInSession</th>\n",
       "      <th>lastName</th>\n",
       "      <th>length</th>\n",
       "      <th>level</th>\n",
       "      <th>location</th>\n",
       "      <th>sessionId</th>\n",
       "      <th>song</th>\n",
       "      <th>userId</th>\n",
       "    </tr>\n",
       "  </thead>\n",
       "  <tbody>\n",
       "    <tr>\n",
       "      <th>1236</th>\n",
       "      <td>Pulp</td>\n",
       "      <td>Matthew</td>\n",
       "      <td>M</td>\n",
       "      <td>1</td>\n",
       "      <td>Jones</td>\n",
       "      <td>244.08771</td>\n",
       "      <td>free</td>\n",
       "      <td>Janesville-Beloit, WI</td>\n",
       "      <td>388</td>\n",
       "      <td>Babies</td>\n",
       "      <td>36</td>\n",
       "    </tr>\n",
       "  </tbody>\n",
       "</table>\n",
       "</div>"
      ],
      "text/plain": [
       "     artist firstName gender  itemInSession lastName     length level  \\\n",
       "1236   Pulp   Matthew      M              1    Jones  244.08771  free   \n",
       "\n",
       "                   location  sessionId    song  userId  \n",
       "1236  Janesville-Beloit, WI        388  Babies      36  "
      ]
     },
     "execution_count": 16,
     "metadata": {},
     "output_type": "execute_result"
    }
   ],
   "source": [
    "df[df.sessionId == 388]"
   ]
  },
  {
   "cell_type": "code",
   "execution_count": 17,
   "metadata": {
    "scrolled": false
   },
   "outputs": [],
   "source": [
    "# We have provided part of the code to set up the CSV file. Please complete the Apache Cassandra code below#\n",
    "file = \"event_datafile_new.csv\"\n",
    "\n",
    "with open(file, encoding=\"utf8\") as f:\n",
    "    csvreader = csv.reader(f)\n",
    "    next(csvreader)  # skip header\n",
    "    for line in csvreader:\n",
    "        query = \"INSERT INTO songs_by_user_session (session_id, item_in_session, artist, song_title, song_length) \"\n",
    "        query = query + \" VALUES (%s, %s, %s, %s, %s)\"\n",
    "        session.execute(\n",
    "            query, (int(line[8]), int(line[3]), line[0], line[9], float(line[5]))\n",
    "        )"
   ]
  },
  {
   "cell_type": "markdown",
   "metadata": {},
   "source": [
    "#### Do a SELECT to verify that the data have been inserted into each table"
   ]
  },
  {
   "cell_type": "code",
   "execution_count": 18,
   "metadata": {
    "scrolled": true
   },
   "outputs": [
    {
     "name": "stdout",
     "output_type": "stream",
     "text": [
      "Row(artist='Faithless', song_title='Music Matters (Mark Knight Dub)', song_length=495.30731201171875)\n"
     ]
    }
   ],
   "source": [
    "rows = session.execute(query1)\n",
    "for x in rows:\n",
    "    print(x)"
   ]
  },
  {
   "cell_type": "markdown",
   "metadata": {},
   "source": [
    "### 2. Give me only the following: name of artist, song (sorted by itemInSession**) and user (first and last name) for userid = 10, sessionid = 182\n",
    "#### The table will containt those columns:\n",
    "- **sessionId**, **userid** (to filter by )also **itemInSession** _composite partition keys_ for sorting.\n",
    "- clustering columns\n",
    "    - **artist**\n",
    "    - **song_name**\n",
    "    - **first_name**\n",
    "    - **last_name**\n"
   ]
  },
  {
   "cell_type": "code",
   "execution_count": 19,
   "metadata": {},
   "outputs": [],
   "source": [
    "## Query 2: Give me only the following: name of artist, song (sorted by itemInSession) and user (first and last name)\\\n",
    "## for userid = 10, sessionid = 182\n",
    "query2 = \"SELECT artist, song_title, first_name, last_name FROM artists_song_by_user_session WHERE userid = 10 AND sessionid = 182\""
   ]
  },
  {
   "cell_type": "code",
   "execution_count": 20,
   "metadata": {},
   "outputs": [],
   "source": [
    "## Query 3: Give me every user name (first and last) in my music app history who listened to the song 'All Hands Against His Own'\n",
    "query3 = \"\"\"SELECT first_name, last_name FROM users_by_song WHERE song_name = 'All Hands Against His Own'\"\"\""
   ]
  },
  {
   "cell_type": "code",
   "execution_count": 21,
   "metadata": {},
   "outputs": [],
   "source": [
    "session.execute(\n",
    "    \"\"\"\n",
    "    DROP TABLE IF EXISTS artists_song_by_user_session\n",
    "    \"\"\"\n",
    ");\n",
    "session.execute(\n",
    "    \"\"\"\n",
    "    CREATE TABLE IF NOT EXISTS artists_song_by_user_session\n",
    "    (userid int, sessionid int, item_in_session int, artist varchar, song_title varchar, first_name varchar, last_name varchar,\n",
    "    PRIMARY KEY ((userid, sessionid), item_in_session))\n",
    "    \"\"\"\n",
    ");"
   ]
  },
  {
   "cell_type": "code",
   "execution_count": 22,
   "metadata": {},
   "outputs": [
    {
     "name": "stdout",
     "output_type": "stream",
     "text": [
      "artist 0\n",
      "firstName 1\n",
      "gender 2\n",
      "itemInSession 3\n",
      "lastName 4\n",
      "length 5\n",
      "level 6\n",
      "location 7\n",
      "sessionId 8\n",
      "song 9\n",
      "userId 10\n"
     ]
    }
   ],
   "source": [
    "import pandas as pd\n",
    "for i, c in enumerate(pd.read_csv(file).columns):\n",
    "    print(c, i)"
   ]
  },
  {
   "cell_type": "code",
   "execution_count": 23,
   "metadata": {},
   "outputs": [],
   "source": [
    "with open(file, encoding=\"utf8\") as f:\n",
    "    csvreader = csv.reader(f)\n",
    "    next(csvreader)  # skip header\n",
    "    for line in csvreader:\n",
    "        query = \"INSERT INTO artists_song_by_user_session (userid, sessionid, item_in_session ,artist, song_title, first_name, last_name) \"\n",
    "        query = query + \" VALUES (%s, %s, %s, %s, %s, %s, %s)\"\n",
    "        session.execute(\n",
    "            query,\n",
    "            (\n",
    "                int(line[10]),\n",
    "                int(line[8]),\n",
    "                int(line[3]),\n",
    "                line[0],\n",
    "                line[9],\n",
    "                line[1],\n",
    "                line[4],\n",
    "            ),\n",
    "        )"
   ]
  },
  {
   "cell_type": "code",
   "execution_count": 24,
   "metadata": {},
   "outputs": [
    {
     "name": "stdout",
     "output_type": "stream",
     "text": [
      "Row(artist='Down To The Bone', song_title=\"Keep On Keepin' On\", first_name='Sylvie', last_name='Cruz')\n",
      "Row(artist='Three Drives', song_title='Greece 2000', first_name='Sylvie', last_name='Cruz')\n",
      "Row(artist='Sebastien Tellier', song_title='Kilometer', first_name='Sylvie', last_name='Cruz')\n",
      "Row(artist='Lonnie Gordon', song_title='Catch You Baby (Steve Pitron & Max Sanna Radio Edit)', first_name='Sylvie', last_name='Cruz')\n"
     ]
    }
   ],
   "source": [
    "rows = session.execute(query2)\n",
    "for x in rows:\n",
    "    print(x)"
   ]
  },
  {
   "cell_type": "markdown",
   "metadata": {},
   "source": [
    "### 3. Give me every user name (first and last) in my music app history who listened to the song 'All Hands Against His Own'\n",
    "- **song_name**, **userid** as _partition keys_ to filter by.\n",
    "- clustering columns\n",
    "    - **first_name**\n",
    "    - **last_name**"
   ]
  },
  {
   "cell_type": "code",
   "execution_count": 25,
   "metadata": {},
   "outputs": [],
   "source": [
    "session.execute(\n",
    "    \"\"\"\n",
    "    DROP TABLE IF EXISTS users_by_song\n",
    "    \"\"\"\n",
    ");\n",
    "session.execute(\n",
    "    \"\"\"\n",
    "    CREATE TABLE IF NOT EXISTS users_by_song\n",
    "    (song_name varchar, user_id int, first_name varchar, last_name varchar, PRIMARY KEY(song_name, user_id))\n",
    "    \"\"\"\n",
    ");"
   ]
  },
  {
   "cell_type": "code",
   "execution_count": 26,
   "metadata": {},
   "outputs": [
    {
     "name": "stdout",
     "output_type": "stream",
     "text": [
      "artist 0\n",
      "firstName 1\n",
      "gender 2\n",
      "itemInSession 3\n",
      "lastName 4\n",
      "length 5\n",
      "level 6\n",
      "location 7\n",
      "sessionId 8\n",
      "song 9\n",
      "userId 10\n"
     ]
    }
   ],
   "source": [
    "import pandas as pd\n",
    "for i, c in enumerate(pd.read_csv(file).columns):\n",
    "    print(c, i)"
   ]
  },
  {
   "cell_type": "code",
   "execution_count": 27,
   "metadata": {},
   "outputs": [],
   "source": [
    "with open(file, encoding=\"utf8\") as f:\n",
    "    csvreader = csv.reader(f)\n",
    "    next(csvreader)  # skip header\n",
    "    for line in csvreader:\n",
    "        query = \"INSERT INTO users_by_song (song_name, user_id, first_name, last_name) \"\n",
    "        query = query + \" VALUES (%s, %s, %s, %s)\"\n",
    "        session.execute(query, (line[9], int(line[10]) ,line[1], line[4]))"
   ]
  },
  {
   "cell_type": "code",
   "execution_count": 28,
   "metadata": {},
   "outputs": [
    {
     "name": "stdout",
     "output_type": "stream",
     "text": [
      "Row(first_name='Jacqueline', last_name='Lynch')\n",
      "Row(first_name='Tegan', last_name='Levine')\n",
      "Row(first_name='Sara', last_name='Johnson')\n"
     ]
    }
   ],
   "source": [
    "rows = session.execute(query3)\n",
    "for x in rows:\n",
    "    print(x)"
   ]
  },
  {
   "cell_type": "markdown",
   "metadata": {},
   "source": [
    "### Drop the tables before closing out the sessions"
   ]
  },
  {
   "cell_type": "code",
   "execution_count": 29,
   "metadata": {},
   "outputs": [],
   "source": [
    "session.execute(\n",
    "    \"\"\"\n",
    "    DROP TABLE IF EXISTS songs_by_user_session\n",
    "    \"\"\"\n",
    ");\n",
    "session.execute(\n",
    "    \"\"\"\n",
    "    DROP TABLE IF EXISTS artists_song_by_user_session\n",
    "    \"\"\"\n",
    ");\n",
    "session.execute(\n",
    "    \"\"\"\n",
    "    DROP TABLE IF EXISTS users_by_song\n",
    "    \"\"\"\n",
    ");"
   ]
  },
  {
   "cell_type": "markdown",
   "metadata": {},
   "source": [
    "### Close the session and cluster connection¶"
   ]
  },
  {
   "cell_type": "code",
   "execution_count": 30,
   "metadata": {},
   "outputs": [],
   "source": [
    "session.shutdown()\n",
    "cluster.shutdown()"
   ]
  }
 ],
 "metadata": {
  "kernelspec": {
   "display_name": "Python 3 (ipykernel)",
   "language": "python",
   "name": "python3"
  },
  "language_info": {
   "codemirror_mode": {
    "name": "ipython",
    "version": 3
   },
   "file_extension": ".py",
   "mimetype": "text/x-python",
   "name": "python",
   "nbconvert_exporter": "python",
   "pygments_lexer": "ipython3",
   "version": "3.9.12"
  }
 },
 "nbformat": 4,
 "nbformat_minor": 2
}
